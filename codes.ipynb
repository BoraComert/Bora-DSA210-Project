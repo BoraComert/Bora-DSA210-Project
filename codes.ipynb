## <font color = 'red'> Cross-validation </font>
