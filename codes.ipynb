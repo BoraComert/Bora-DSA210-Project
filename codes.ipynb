{
 "cells": [
  {
   "cell_type": "markdown",
   "id": "45cd2555",
   "metadata": {},
   "source": [
    "Machine learning "
   ]
  },
  {
   "cell_type": "markdown",
   "id": "74b1efa6",
   "metadata": {},
   "source": []
  },
  {
   "cell_type": "code",
   "execution_count": null,
   "id": "2b16984e",
   "metadata": {},
   "outputs": [],
   "source": [
    "import statsmodels.api as statsmodel\n",
    "from statsmodels.stats.outliers_influence import variance_inflation_factor"
   ]
  }
 ],
 "metadata": {
  "kernelspec": {
   "display_name": "Python 3",
   "language": "python",
   "name": "python3"
  },
  "language_info": {
   "codemirror_mode": {
    "name": "ipython",
    "version": 3
   },
   "file_extension": ".py",
   "mimetype": "text/x-python",
   "name": "python",
   "nbconvert_exporter": "python",
   "pygments_lexer": "ipython3",
   "version": "3.9.6"
  }
 },
 "nbformat": 4,
 "nbformat_minor": 5
}
