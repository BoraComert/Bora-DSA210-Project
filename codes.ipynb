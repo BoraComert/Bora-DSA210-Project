{
 "cells": [
  {
   "cell_type": "markdown",
   "id": "45cd2555",
   "metadata": {},
   "source": []
  },
  {
   "cell_type": "markdown",
   "id": "83a0fd33",
   "metadata": {},
   "source": [
    "Using the new data which the countries with no visitors coming to Istanbul we will calculate the chi-square test of independence.\n",
    "But firstly we are going to change the \"ziyaretci_sayisi\" column to Visitors for better understanding."
   ]
  },
  {
   "cell_type": "code",
   "execution_count": 9,
   "id": "a3cf8b2c",
   "metadata": {},
   "outputs": [
    {
     "data": {
      "text/html": [
       "<div>\n",
       "<style scoped>\n",
       "    .dataframe tbody tr th:only-of-type {\n",
       "        vertical-align: middle;\n",
       "    }\n",
       "\n",
       "    .dataframe tbody tr th {\n",
       "        vertical-align: top;\n",
       "    }\n",
       "\n",
       "    .dataframe thead th {\n",
       "        text-align: right;\n",
       "    }\n",
       "</style>\n",
       "<table border=\"1\" class=\"dataframe\">\n",
       "  <thead>\n",
       "    <tr style=\"text-align: right;\">\n",
       "      <th></th>\n",
       "      <th>Date</th>\n",
       "      <th>Country</th>\n",
       "      <th>Country_Temp</th>\n",
       "      <th>Country_Humidity</th>\n",
       "      <th>Country_Precipitation</th>\n",
       "      <th>Avg Temperature (C)</th>\n",
       "      <th>Avg Humidity (%)</th>\n",
       "      <th>Total Precipitation (mm)</th>\n",
       "      <th>Visitors</th>\n",
       "      <th>Income classification</th>\n",
       "    </tr>\n",
       "  </thead>\n",
       "  <tbody>\n",
       "    <tr>\n",
       "      <th>0</th>\n",
       "      <td>2019-01-01</td>\n",
       "      <td>AUS</td>\n",
       "      <td>28.13</td>\n",
       "      <td>43.30</td>\n",
       "      <td>205.00</td>\n",
       "      <td>8.475422</td>\n",
       "      <td>70.202765</td>\n",
       "      <td>77.666667</td>\n",
       "      <td>4087.0</td>\n",
       "      <td>High Income</td>\n",
       "    </tr>\n",
       "    <tr>\n",
       "      <th>1</th>\n",
       "      <td>2019-04-01</td>\n",
       "      <td>AUS</td>\n",
       "      <td>23.09</td>\n",
       "      <td>46.53</td>\n",
       "      <td>92.80</td>\n",
       "      <td>18.119355</td>\n",
       "      <td>66.005735</td>\n",
       "      <td>28.066667</td>\n",
       "      <td>17511.0</td>\n",
       "      <td>High Income</td>\n",
       "    </tr>\n",
       "    <tr>\n",
       "      <th>2</th>\n",
       "      <td>2020-01-01</td>\n",
       "      <td>AUS</td>\n",
       "      <td>28.43</td>\n",
       "      <td>43.21</td>\n",
       "      <td>211.97</td>\n",
       "      <td>8.450130</td>\n",
       "      <td>69.750463</td>\n",
       "      <td>85.466667</td>\n",
       "      <td>1746.0</td>\n",
       "      <td>High Income</td>\n",
       "    </tr>\n",
       "    <tr>\n",
       "      <th>3</th>\n",
       "      <td>2020-04-01</td>\n",
       "      <td>AUS</td>\n",
       "      <td>23.15</td>\n",
       "      <td>47.01</td>\n",
       "      <td>98.12</td>\n",
       "      <td>16.768459</td>\n",
       "      <td>62.811470</td>\n",
       "      <td>64.100000</td>\n",
       "      <td>221.0</td>\n",
       "      <td>High Income</td>\n",
       "    </tr>\n",
       "    <tr>\n",
       "      <th>4</th>\n",
       "      <td>2022-01-01</td>\n",
       "      <td>AUS</td>\n",
       "      <td>28.25</td>\n",
       "      <td>43.20</td>\n",
       "      <td>211.61</td>\n",
       "      <td>6.649386</td>\n",
       "      <td>69.688172</td>\n",
       "      <td>73.133333</td>\n",
       "      <td>8848.0</td>\n",
       "      <td>High Income</td>\n",
       "    </tr>\n",
       "  </tbody>\n",
       "</table>\n",
       "</div>"
      ],
      "text/plain": [
       "         Date Country  Country_Temp  Country_Humidity  Country_Precipitation  \\\n",
       "0  2019-01-01     AUS         28.13             43.30                 205.00   \n",
       "1  2019-04-01     AUS         23.09             46.53                  92.80   \n",
       "2  2020-01-01     AUS         28.43             43.21                 211.97   \n",
       "3  2020-04-01     AUS         23.15             47.01                  98.12   \n",
       "4  2022-01-01     AUS         28.25             43.20                 211.61   \n",
       "\n",
       "   Avg Temperature (C)  Avg Humidity (%)  Total Precipitation (mm)  Visitors  \\\n",
       "0             8.475422         70.202765                 77.666667    4087.0   \n",
       "1            18.119355         66.005735                 28.066667   17511.0   \n",
       "2             8.450130         69.750463                 85.466667    1746.0   \n",
       "3            16.768459         62.811470                 64.100000     221.0   \n",
       "4             6.649386         69.688172                 73.133333    8848.0   \n",
       "\n",
       "  Income classification  \n",
       "0           High Income  \n",
       "1           High Income  \n",
       "2           High Income  \n",
       "3           High Income  \n",
       "4           High Income  "
      ]
     },
     "execution_count": 9,
     "metadata": {},
     "output_type": "execute_result"
    }
   ],
   "source": [
    "import pandas as pd\n",
    "import seaborn as sns\n",
    "import matplotlib.pyplot as plt\n",
    "import numpy as np\n",
    "\n",
    "df = pd.read_csv(\"filtered_merged_output.csv\")\n",
    "df.rename(columns={ \"ziyaretci_sayisi\": \"Visitors\"},inplace= True)\n",
    "df.head()"
   ]
  },
  {
   "cell_type": "markdown",
   "id": "05b17d7e",
   "metadata": {},
   "source": [
    "#chi square test of indepence"
   ]
  },
  {
   "cell_type": "code",
   "execution_count": null,
   "id": "31cf4570",
   "metadata": {},
   "outputs": [],
   "source": [
    "#chi square test of indepence"
   ]
  },
  {
   "cell_type": "code",
   "execution_count": null,
   "id": "bb9dd3f6",
   "metadata": {},
   "outputs": [],
   "source": []
  },
  {
   "cell_type": "markdown",
   "id": "3159f6db",
   "metadata": {},
   "source": [
    "Machine Learning"
   ]
  },
  {
   "cell_type": "markdown",
   "id": "41dccd36",
   "metadata": {},
   "source": [
    "Before developing a machine learning model, we need to add the yoy_inflation.csv to our data. But first we need to convert it from monthly yoy inflation to seasonal. We will use the mean of the data."
   ]
  },
  {
   "cell_type": "code",
   "execution_count": null,
   "id": "ff9e4127",
   "metadata": {},
   "outputs": [],
   "source": [
    "def month_to_season(month):\n",
    "    if month in [12, 1, 2]:\n",
    "        return \"Winter\"\n",
    "    elif month in [3, 4, 5]:\n",
    "        return \"Spring\"\n",
    "    elif month in [6, 7, 8]:\n",
    "        return \"Summer\"\n",
    "    elif month in [9, 10, 11]:\n",
    "        return \"Autumn\"\n",
    "    \n"
   ]
  },
  {
   "cell_type": "code",
   "execution_count": null,
   "id": "2b16984e",
   "metadata": {},
   "outputs": [],
   "source": [
    "import statsmodels.api as statsmodel\n",
    "from statsmodels.stats.outliers_influence import variance_inflation_factor"
   ]
  }
 ],
 "metadata": {
  "kernelspec": {
   "display_name": "Python 3",
   "language": "python",
   "name": "python3"
  },
  "language_info": {
   "codemirror_mode": {
    "name": "ipython",
    "version": 3
   },
   "file_extension": ".py",
   "mimetype": "text/x-python",
   "name": "python",
   "nbconvert_exporter": "python",
   "pygments_lexer": "ipython3",
   "version": "3.9.6"
  }
 },
 "nbformat": 4,
 "nbformat_minor": 5
}
